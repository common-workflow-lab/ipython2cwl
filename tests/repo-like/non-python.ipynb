{
 "cells": [
  {
   "cell_type": "markdown",
   "metadata": {},
   "source": [
    "# just an non-ipython notebook"
   ]
  },
  {
   "cell_type": "code",
   "execution_count": 1,
   "metadata": {},
   "outputs": [
    {
     "name": "stdout",
     "output_type": "stream",
     "text": [
      "List of Available Magic commands\n",
      "\t- compile\n",
      "\t- data\n",
      "\t- displayData\n",
      "\t- displayDataCSV\n",
      "\t- displayDataImage\n",
      "\t- edit\n",
      "\t- execute\n",
      "\t- executeWithProvenance\n",
      "\t- githubImport\n",
      "\t- logs\n",
      "\t- magics\n",
      "\t- newWorkflow\n",
      "\t- newWorkflowAddInput\n",
      "\t- newWorkflowAddOutputSource\n",
      "\t- newWorkflowAddStep\n",
      "\t- newWorkflowAddStepIn\n",
      "\t- newWorkflowBuild\n",
      "\t- sampleCSV\n",
      "\t- scatter\n",
      "\t- snippet\n",
      "\t- system\n",
      "\t- view\n",
      "\t- viewTool"
     ]
    }
   ],
   "source": [
    "% magics"
   ]
  }
 ],
 "metadata": {
  "kernelspec": {
   "display_name": "Common Workflow Languages",
   "language": "cwl",
   "name": "cwlkernel"
  },
  "language_info": {
   "file_extension": ".cwl",
   "mimetype": "text/x-cwl",
   "name": "yaml"
  }
 },
 "nbformat": 4,
 "nbformat_minor": 4
}
